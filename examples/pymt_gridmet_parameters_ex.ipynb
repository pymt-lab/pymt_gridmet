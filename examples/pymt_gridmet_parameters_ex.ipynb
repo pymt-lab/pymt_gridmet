{
 "cells": [
  {
   "cell_type": "markdown",
   "id": "returning-fairy",
   "metadata": {},
   "source": [
    "# Using *pymt_gridmet*: with parameters"
   ]
  },
  {
   "cell_type": "markdown",
   "id": "third-clear",
   "metadata": {},
   "source": [
    "Start by importing the GridMet class from `pymt` and creating an instance."
   ]
  },
  {
   "cell_type": "code",
   "execution_count": 1,
   "id": "hollywood-excuse",
   "metadata": {},
   "outputs": [],
   "source": [
    "from pymt.models import GridMet\n",
    "m = GridMet()"
   ]
  },
  {
   "cell_type": "markdown",
   "id": "latin-penny",
   "metadata": {},
   "source": [
    "Next, use the *setup* method to assign values to the `start_date` and `end_date` parameters."
   ]
  },
  {
   "cell_type": "code",
   "execution_count": 2,
   "id": "auburn-spectrum",
   "metadata": {},
   "outputs": [],
   "source": [
    "args = m.setup(start_date=\"2021-01-01\", end_date=\"2021-01-03\")"
   ]
  },
  {
   "cell_type": "markdown",
   "id": "informative-correlation",
   "metadata": {},
   "source": [
    "Pass the results from *setup* into the *initialize* method."
   ]
  },
  {
   "cell_type": "code",
   "execution_count": 3,
   "id": "intense-timber",
   "metadata": {},
   "outputs": [
    {
     "name": "stdout",
     "output_type": "stream",
     "text": [
      "gridmet.yaml\n",
      "...\n",
      "\n"
     ]
    }
   ],
   "source": [
    "m.initialize(*args)"
   ]
  },
  {
   "cell_type": "markdown",
   "id": "based-implement",
   "metadata": {},
   "source": [
    "Note that the parameters have been correctly assigned in the component."
   ]
  },
  {
   "cell_type": "code",
   "execution_count": 4,
   "id": "medical-matter",
   "metadata": {},
   "outputs": [
    {
     "name": "stdout",
     "output_type": "stream",
     "text": [
      "('start_date', '2021-01-01')\n",
      "('end_date', '2021-01-03')\n"
     ]
    }
   ],
   "source": [
    "for param in m.parameters:\n",
    "    print(param)"
   ]
  },
  {
   "cell_type": "markdown",
   "id": "earlier-steps",
   "metadata": {},
   "source": [
    "As in the previous example, get the maximum temperature values for the first day."
   ]
  },
  {
   "cell_type": "code",
   "execution_count": 5,
   "id": "diverse-luxembourg",
   "metadata": {},
   "outputs": [],
   "source": [
    "Tmax = m.var[\"daily_maximum_temperature\"]\n",
    "Tmax_values = Tmax.data"
   ]
  },
  {
   "cell_type": "markdown",
   "id": "contrary-uncle",
   "metadata": {},
   "source": [
    "To make this example a little more interesting, let's visualize the maximum temperature data."
   ]
  },
  {
   "cell_type": "markdown",
   "id": "moving-wyoming",
   "metadata": {},
   "source": [
    "The *pymt_gridmet* component contains not only data values, but also the grid on which they're located.\n",
    "Start by getting the identifier for the grid used for the maximum temperature data."
   ]
  },
  {
   "cell_type": "code",
   "execution_count": 6,
   "id": "interracial-illinois",
   "metadata": {},
   "outputs": [],
   "source": [
    "gid = m.var_grid(\"daily_maximum_temperature\")"
   ]
  },
  {
   "cell_type": "markdown",
   "id": "spatial-reach",
   "metadata": {},
   "source": [
    "Using the grid identifier, we can get the grid dimensions, origin, and node spacing."
   ]
  },
  {
   "cell_type": "code",
   "execution_count": 7,
   "id": "aerial-aaron",
   "metadata": {},
   "outputs": [
    {
     "name": "stdout",
     "output_type": "stream",
     "text": [
      "shape: [ 585 1386]\n",
      "origin: [  25.06666667 -124.76666663]\n",
      "spacing: [ 0.04166667  0.04166667]\n"
     ]
    }
   ],
   "source": [
    "shape = m.grid_shape(gid)\n",
    "origin = m.grid_origin(gid)\n",
    "spacing = m.grid_spacing(gid)\n",
    "print(\"shape:\", shape)\n",
    "print(\"origin:\", origin)\n",
    "print(\"spacing:\", spacing)"
   ]
  },
  {
   "cell_type": "markdown",
   "id": "athletic-austin",
   "metadata": {},
   "source": [
    "From these values, we can construct latitude and longitude vectors."
   ]
  },
  {
   "cell_type": "code",
   "execution_count": 8,
   "id": "optional-shame",
   "metadata": {},
   "outputs": [],
   "source": [
    "import numpy as np\n",
    "\n",
    "lat = np.arange(shape[0])*spacing[0] + origin[0]\n",
    "lon = np.arange(shape[1])*spacing[1] + origin[1]"
   ]
  },
  {
   "cell_type": "markdown",
   "id": "exact-velvet",
   "metadata": {},
   "source": [
    "We're almost ready to make a plot.\n",
    "Note, however, that the default behavior of `pymt` components is to flatten data arrays."
   ]
  },
  {
   "cell_type": "code",
   "execution_count": 9,
   "id": "copyrighted-democrat",
   "metadata": {},
   "outputs": [
    {
     "data": {
      "text/plain": [
       "(810810,)"
      ]
     },
     "execution_count": 9,
     "metadata": {},
     "output_type": "execute_result"
    }
   ],
   "source": [
    "Tmax_values.shape"
   ]
  },
  {
   "cell_type": "markdown",
   "id": "passing-chase",
   "metadata": {},
   "source": [
    "Make a new variable that restores the dimensionality of the data."
   ]
  },
  {
   "cell_type": "code",
   "execution_count": 10,
   "id": "unlimited-allen",
   "metadata": {},
   "outputs": [
    {
     "data": {
      "text/plain": [
       "(585, 1386)"
      ]
     },
     "execution_count": 10,
     "metadata": {},
     "output_type": "execute_result"
    }
   ],
   "source": [
    "Tmax_values_2D = Tmax_values.reshape(shape)\n",
    "Tmax_values_2D.shape"
   ]
  },
  {
   "cell_type": "markdown",
   "id": "engaged-correspondence",
   "metadata": {},
   "source": [
    "Make a simple filled contour plot of the data with a colorbar. "
   ]
  },
  {
   "cell_type": "code",
   "execution_count": 11,
   "id": "threaded-examination",
   "metadata": {},
   "outputs": [
    {
     "data": {
      "text/plain": [
       "<matplotlib.colorbar.Colorbar at 0x1a44d5a00>"
      ]
     },
     "execution_count": 11,
     "metadata": {},
     "output_type": "execute_result"
    },
    {
     "data": {
      "image/png": "[encoded data removed]",
      "text/plain": [
       "<Figure size 432x288 with 2 Axes>"
      ]
     },
     "metadata": {
      "needs_background": "light"
     },
     "output_type": "display_data"
    }
   ],
   "source": [
    "import matplotlib.pyplot as plt\n",
    "\n",
    "plt.contourf(lon, lat, Tmax_values_2D, 15)\n",
    "plt.colorbar(label=\"Maximum Temperature (K)\")"
   ]
  },
  {
   "cell_type": "markdown",
   "id": "sophisticated-rescue",
   "metadata": {},
   "source": [
    "Complete the example by finalizing the component."
   ]
  },
  {
   "cell_type": "code",
   "execution_count": 12,
   "id": "taken-kernel",
   "metadata": {},
   "outputs": [],
   "source": [
    "m.finalize()"
   ]
  }
 ],
 "metadata": {
  "kernelspec": {
   "display_name": "Python 3",
   "language": "python",
   "name": "python3"
  },
  "language_info": {
   "codemirror_mode": {
    "name": "ipython",
    "version": 3
   },
   "file_extension": ".py",
   "mimetype": "text/x-python",
   "name": "python",
   "nbconvert_exporter": "python",
   "pygments_lexer": "ipython3",
   "version": "3.9.1"
  }
 },
 "nbformat": 4,
 "nbformat_minor": 5
}
