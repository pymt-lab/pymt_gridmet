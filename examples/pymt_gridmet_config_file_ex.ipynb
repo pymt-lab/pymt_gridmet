{
 "cells": [
  {
   "cell_type": "markdown",
   "id": "returning-fairy",
   "metadata": {},
   "source": [
    "# Using *pymt_gridmet*: with a configuration file"
   ]
  },
  {
   "cell_type": "markdown",
   "id": "psychological-snapshot",
   "metadata": {},
   "source": [
    "Start by importing the GridMet class from `pymt`."
   ]
  },
  {
   "cell_type": "code",
   "execution_count": 1,
   "id": "hollywood-excuse",
   "metadata": {},
   "outputs": [],
   "source": [
    "from pymt.models import GridMet"
   ]
  },
  {
   "cell_type": "markdown",
   "id": "developed-appliance",
   "metadata": {},
   "source": [
    "Create an instance of the GridMet class and initialize it with our configuration file."
   ]
  },
  {
   "cell_type": "code",
   "execution_count": 2,
   "id": "intense-timber",
   "metadata": {},
   "outputs": [
    {
     "name": "stdout",
     "output_type": "stream",
     "text": [
      "gridmet.yaml\n",
      "...\n",
      "\n"
     ]
    }
   ],
   "source": [
    "m = GridMet()\n",
    "m.initialize(\"gridmet.yaml\")"
   ]
  },
  {
   "cell_type": "markdown",
   "id": "chief-flash",
   "metadata": {},
   "source": [
    "Note that the start and end dates have been read from the configuration file into the component as parameters."
   ]
  },
  {
   "cell_type": "code",
   "execution_count": 3,
   "id": "medical-matter",
   "metadata": {},
   "outputs": [
    {
     "name": "stdout",
     "output_type": "stream",
     "text": [
      "('start_date', '2020-01-01')\n",
      "('end_date', '2020-01-07')\n"
     ]
    }
   ],
   "source": [
    "for param in m.parameters:\n",
    "    print(param)"
   ]
  },
  {
   "cell_type": "markdown",
   "id": "increased-democrat",
   "metadata": {},
   "source": [
    "What variables can be accessed from this data component?"
   ]
  },
  {
   "cell_type": "code",
   "execution_count": 4,
   "id": "fuzzy-knitting",
   "metadata": {},
   "outputs": [
    {
     "name": "stdout",
     "output_type": "stream",
     "text": [
      "daily_maximum_temperature\n",
      "daily_minimum_temperature\n",
      "precipitation_amount\n"
     ]
    }
   ],
   "source": [
    "for var in m.output_var_names:\n",
    "    print(var)"
   ]
  },
  {
   "cell_type": "markdown",
   "id": "received-vision",
   "metadata": {},
   "source": [
    "Get the maximum temperature values for the first day."
   ]
  },
  {
   "cell_type": "code",
   "execution_count": 5,
   "id": "diverse-luxembourg",
   "metadata": {},
   "outputs": [],
   "source": [
    "Tmax = m.var[\"daily_maximum_temperature\"]\n",
    "Tmax_values = Tmax.data"
   ]
  },
  {
   "cell_type": "markdown",
   "id": "positive-wireless",
   "metadata": {},
   "source": [
    "What is the maximum maximum temperature? (Note that the data include NaN values, which we can ignore with `numpy.nanmax`.)"
   ]
  },
  {
   "cell_type": "code",
   "execution_count": 6,
   "id": "present-brunswick",
   "metadata": {},
   "outputs": [
    {
     "data": {
      "text/plain": [
       "305.70001"
      ]
     },
     "execution_count": 6,
     "metadata": {},
     "output_type": "execute_result"
    }
   ],
   "source": [
    "import numpy\n",
    "\n",
    "numpy.nanmax(Tmax_values)"
   ]
  },
  {
   "cell_type": "markdown",
   "id": "monetary-motion",
   "metadata": {},
   "source": [
    "But what are the units of this temperature value?"
   ]
  },
  {
   "cell_type": "code",
   "execution_count": 7,
   "id": "interracial-illinois",
   "metadata": {},
   "outputs": [
    {
     "data": {
      "text/plain": [
       "'K'"
      ]
     },
     "execution_count": 7,
     "metadata": {},
     "output_type": "execute_result"
    }
   ],
   "source": [
    "Tmax.units"
   ]
  },
  {
   "cell_type": "markdown",
   "id": "starting-imaging",
   "metadata": {},
   "source": [
    "Finish by finalizing the component. This cleans up resource, including deleting downloaded data files."
   ]
  },
  {
   "cell_type": "code",
   "execution_count": 8,
   "id": "taken-kernel",
   "metadata": {},
   "outputs": [],
   "source": [
    "m.finalize()"
   ]
  }
 ],
 "metadata": {
  "kernelspec": {
   "display_name": "Python 3",
   "language": "python",
   "name": "python3"
  },
  "language_info": {
   "codemirror_mode": {
    "name": "ipython",
    "version": 3
   },
   "file_extension": ".py",
   "mimetype": "text/x-python",
   "name": "python",
   "nbconvert_exporter": "python",
   "pygments_lexer": "ipython3",
   "version": "3.9.1"
  }
 },
 "nbformat": 4,
 "nbformat_minor": 5
}
